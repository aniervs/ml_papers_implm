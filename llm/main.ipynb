{
 "cells": [
  {
   "cell_type": "markdown",
   "source": [
    "## Downloading data"
   ],
   "metadata": {
    "collapsed": false
   },
   "id": "5c6c87ec6a2648a5"
  },
  {
   "cell_type": "code",
   "execution_count": 1,
   "id": "initial_id",
   "metadata": {
    "collapsed": true,
    "ExecuteTime": {
     "end_time": "2023-10-24T10:52:21.660776Z",
     "start_time": "2023-10-24T10:52:20.213568Z"
    }
   },
   "outputs": [
    {
     "name": "stdout",
     "output_type": "stream",
     "text": [
      "--2023-10-24 12:52:20--  https://raw.githubusercontent.com/karpathy/char-rnn/master/data/tinyshakespeare/input.txt\r\n",
      "Resolving raw.githubusercontent.com (raw.githubusercontent.com)... 185.199.108.133, 185.199.111.133, 185.199.109.133, ...\r\n",
      "Connecting to raw.githubusercontent.com (raw.githubusercontent.com)|185.199.108.133|:443... connected.\r\n",
      "HTTP request sent, awaiting response... 200 OK\r\n",
      "Length: 1115394 (1.1M) [text/plain]\r\n",
      "Saving to: 'input.txt'\r\n",
      "\r\n",
      "input.txt           100%[===================>]   1.06M  2.84MB/s    in 0.4s    \r\n",
      "\r\n",
      "2023-10-24 12:52:21 (2.84 MB/s) - 'input.txt' saved [1115394/1115394]\r\n",
      "\r\n"
     ]
    }
   ],
   "source": [
    "!wget https://raw.githubusercontent.com/karpathy/char-rnn/master/data/tinyshakespeare/input.txt"
   ]
  },
  {
   "cell_type": "code",
   "execution_count": 2,
   "outputs": [
    {
     "data": {
      "text/plain": "1115394"
     },
     "execution_count": 2,
     "metadata": {},
     "output_type": "execute_result"
    }
   ],
   "source": [
    "with open(\"input.txt\", \"r\") as f:\n",
    "    text = f.read()\n",
    "len(text)"
   ],
   "metadata": {
    "collapsed": false,
    "ExecuteTime": {
     "end_time": "2023-10-24T10:53:26.055246Z",
     "start_time": "2023-10-24T10:53:26.040433Z"
    }
   },
   "id": "92d1c0c525294bcf"
  },
  {
   "cell_type": "code",
   "execution_count": 4,
   "outputs": [
    {
     "name": "stdout",
     "output_type": "stream",
     "text": [
      "First Citizen:\n",
      "Before we proceed any further, hear me speak.\n",
      "\n",
      "All:\n",
      "Speak, speak.\n",
      "\n",
      "First Citizen:\n",
      "You\n"
     ]
    }
   ],
   "source": [
    "print(text[:100])"
   ],
   "metadata": {
    "collapsed": false,
    "ExecuteTime": {
     "end_time": "2023-10-24T10:53:47.920195Z",
     "start_time": "2023-10-24T10:53:47.916290Z"
    }
   },
   "id": "f91d58a1d44c9c9"
  },
  {
   "cell_type": "markdown",
   "source": [
    "## Preparing training and test datasets and dataloaders"
   ],
   "metadata": {
    "collapsed": false
   },
   "id": "7b786f9efbfd5aaf"
  },
  {
   "cell_type": "code",
   "execution_count": 15,
   "outputs": [],
   "source": [
    "class Vocab:\n",
    "    def __init__(self, text: str):\n",
    "        self.vocab = list(set(text))\n",
    "        self.vocab.append(\"<unk>\")\n",
    "        self.vocab.sort()\n",
    "        self.char2idx = {c: i for i, c in enumerate(self.vocab)}\n",
    "        \n",
    "    def encode(self, text: str) -> list:\n",
    "        code = []\n",
    "        for char in text:\n",
    "            if char in self.char2idx:\n",
    "                code.append(self.char2idx[char])\n",
    "            else:\n",
    "                code.append(self.char2idx[\"<unk>\"])\n",
    "        return code\n",
    "    \n",
    "    def decode(self, code: list) -> str:\n",
    "        text = \"\"\n",
    "        for c in code:\n",
    "            text += self.vocab[c]\n",
    "                \n",
    "        return text\n",
    "    "
   ],
   "metadata": {
    "collapsed": false,
    "ExecuteTime": {
     "end_time": "2023-10-24T11:25:50.282908Z",
     "start_time": "2023-10-24T11:25:50.273356Z"
    }
   },
   "id": "4346aecfff5541f7"
  },
  {
   "cell_type": "code",
   "execution_count": 16,
   "outputs": [
    {
     "name": "stdout",
     "output_type": "stream",
     "text": [
      "['\\n', ' ', '!', '$', '&', \"'\", ',', '-', '.', '3', ':', ';', '<unk>', '?', 'A', 'B', 'C', 'D', 'E', 'F', 'G', 'H', 'I', 'J', 'K', 'L', 'M', 'N', 'O', 'P', 'Q', 'R', 'S', 'T', 'U', 'V', 'W', 'X', 'Y', 'Z', 'a', 'b', 'c', 'd', 'e', 'f', 'g', 'h', 'i', 'j', 'k', 'l', 'm', 'n', 'o', 'p', 'q', 'r', 's', 't', 'u', 'v', 'w', 'x', 'y', 'z']\n"
     ]
    }
   ],
   "source": [
    "vocab = Vocab(text)\n",
    "print(vocab.vocab)"
   ],
   "metadata": {
    "collapsed": false,
    "ExecuteTime": {
     "end_time": "2023-10-24T11:25:51.431430Z",
     "start_time": "2023-10-24T11:25:51.426695Z"
    }
   },
   "id": "f9cf79c5872cf13d"
  },
  {
   "cell_type": "code",
   "execution_count": 17,
   "outputs": [
    {
     "data": {
      "text/plain": "[21, 44, 51, 51, 54, 6, 1, 22, 1, 40, 52, 1, 54, 50, 8]"
     },
     "execution_count": 17,
     "metadata": {},
     "output_type": "execute_result"
    }
   ],
   "source": [
    "vocab.encode(\"Hello, I am ok.\")"
   ],
   "metadata": {
    "collapsed": false,
    "ExecuteTime": {
     "end_time": "2023-10-24T11:25:56.112005Z",
     "start_time": "2023-10-24T11:25:56.108034Z"
    }
   },
   "id": "542f8b48f1b07a"
  },
  {
   "cell_type": "code",
   "execution_count": 18,
   "outputs": [
    {
     "data": {
      "text/plain": "'Hello, I am ok.'"
     },
     "execution_count": 18,
     "metadata": {},
     "output_type": "execute_result"
    }
   ],
   "source": [
    "vocab.decode(vocab.encode(\"Hello, I am ok.\"))"
   ],
   "metadata": {
    "collapsed": false,
    "ExecuteTime": {
     "end_time": "2023-10-24T11:25:58.759955Z",
     "start_time": "2023-10-24T11:25:58.755915Z"
    }
   },
   "id": "c8049aff2fbbe7d7"
  },
  {
   "cell_type": "code",
   "execution_count": 19,
   "outputs": [
    {
     "data": {
      "text/plain": "torch.Size([1115394])"
     },
     "execution_count": 19,
     "metadata": {},
     "output_type": "execute_result"
    }
   ],
   "source": [
    "import torch\n",
    "data = torch.tensor(vocab.encode(text), dtype=torch.long)\n",
    "data.shape"
   ],
   "metadata": {
    "collapsed": false,
    "ExecuteTime": {
     "end_time": "2023-10-24T11:26:04.918524Z",
     "start_time": "2023-10-24T11:26:04.819654Z"
    }
   },
   "id": "28f687ee70855ad1"
  },
  {
   "cell_type": "markdown",
   "source": [
    "### Splitting data into train and test"
   ],
   "metadata": {
    "collapsed": false
   },
   "id": "5e3a4c9b51cbc194"
  },
  {
   "cell_type": "code",
   "execution_count": 20,
   "outputs": [],
   "source": [
    "train_size = int(len(data) * 0.8)\n",
    "train_data = data[:train_size]\n",
    "test_data = data[train_size:]"
   ],
   "metadata": {
    "collapsed": false,
    "ExecuteTime": {
     "end_time": "2023-10-24T11:26:19.629280Z",
     "start_time": "2023-10-24T11:26:19.627037Z"
    }
   },
   "id": "dfcba57bde9324d9"
  },
  {
   "cell_type": "code",
   "execution_count": 21,
   "outputs": [
    {
     "data": {
      "text/plain": "(torch.Size([892315]), torch.Size([223079]))"
     },
     "execution_count": 21,
     "metadata": {},
     "output_type": "execute_result"
    }
   ],
   "source": [
    "train_data.shape, test_data.shape"
   ],
   "metadata": {
    "collapsed": false,
    "ExecuteTime": {
     "end_time": "2023-10-24T11:26:21.378762Z",
     "start_time": "2023-10-24T11:26:21.374651Z"
    }
   },
   "id": "e5055452bc9f8606"
  },
  {
   "cell_type": "code",
   "execution_count": 30,
   "outputs": [
    {
     "data": {
      "text/plain": "True"
     },
     "execution_count": 30,
     "metadata": {},
     "output_type": "execute_result"
    }
   ],
   "source": [
    "len(train_data) > 3.5 * len(test_data)"
   ],
   "metadata": {
    "collapsed": false,
    "ExecuteTime": {
     "end_time": "2023-10-24T11:27:51.144250Z",
     "start_time": "2023-10-24T11:27:51.138131Z"
    }
   },
   "id": "9c1117866750e3b9"
  },
  {
   "cell_type": "markdown",
   "source": [],
   "metadata": {
    "collapsed": false
   },
   "id": "61719392fe030c57"
  },
  {
   "cell_type": "code",
   "execution_count": 31,
   "outputs": [
    {
     "data": {
      "text/plain": "<torch._C.Generator at 0x112accad0>"
     },
     "execution_count": 31,
     "metadata": {},
     "output_type": "execute_result"
    }
   ],
   "source": [
    "torch.manual_seed(42)"
   ],
   "metadata": {
    "collapsed": false,
    "ExecuteTime": {
     "end_time": "2023-10-24T11:35:02.398569Z",
     "start_time": "2023-10-24T11:35:02.393219Z"
    }
   },
   "id": "fdb154f4821bda5d"
  },
  {
   "cell_type": "code",
   "execution_count": 41,
   "outputs": [],
   "source": [
    "batch_size = 4\n",
    "block_size = 8"
   ],
   "metadata": {
    "collapsed": false,
    "ExecuteTime": {
     "end_time": "2023-10-24T12:40:08.055393Z",
     "start_time": "2023-10-24T12:40:08.048229Z"
    }
   },
   "id": "19694b4489b1aa0d"
  },
  {
   "cell_type": "code",
   "execution_count": 42,
   "outputs": [],
   "source": [
    "def get_batch(dataset):\n",
    "    indices = torch.randint(low=0, high=len(dataset) - block_size, size=(batch_size,))\n",
    "    x = torch.stack([dataset[i:i+block_size] for i in indices])\n",
    "    y = torch.stack([dataset[i+1:i+block_size+1] for i in indices])\n",
    "    return x, y"
   ],
   "metadata": {
    "collapsed": false,
    "ExecuteTime": {
     "end_time": "2023-10-24T12:40:08.843265Z",
     "start_time": "2023-10-24T12:40:08.837127Z"
    }
   },
   "id": "12703b567e1bf75e"
  },
  {
   "cell_type": "code",
   "execution_count": 43,
   "outputs": [
    {
     "name": "stdout",
     "output_type": "stream",
     "text": [
      "torch.Size([4, 8]) torch.Size([4, 8])\n"
     ]
    }
   ],
   "source": [
    "x, y = get_batch(train_data)\n",
    "print(x.shape, y.shape)"
   ],
   "metadata": {
    "collapsed": false,
    "ExecuteTime": {
     "end_time": "2023-10-24T12:40:09.263270Z",
     "start_time": "2023-10-24T12:40:09.256576Z"
    }
   },
   "id": "609a58b779cd1d6e"
  },
  {
   "cell_type": "code",
   "execution_count": 44,
   "outputs": [
    {
     "name": "stdout",
     "output_type": "stream",
     "text": [
      "tensor([41, 57, 44, 40, 58, 59,  8,  0])  -->  tensor([57, 44, 40, 58, 59,  8,  0, 26])\n",
      "tensor([47, 44,  1, 43, 44, 40, 43,  1])  -->  tensor([44,  1, 43, 44, 40, 43,  1, 40])\n",
      "tensor([ 0, 36, 47, 48, 42, 47,  1, 53])  -->  tensor([36, 47, 48, 42, 47,  1, 53, 44])\n",
      "tensor([51,  1, 52, 64,  1, 58, 44, 57])  -->  tensor([ 1, 52, 64,  1, 58, 44, 57, 61])\n"
     ]
    }
   ],
   "source": [
    "for seq1, seq2 in zip(x, y):\n",
    "    print(seq1, ' --> ', seq2)"
   ],
   "metadata": {
    "collapsed": false,
    "ExecuteTime": {
     "end_time": "2023-10-24T12:40:10.014727Z",
     "start_time": "2023-10-24T12:40:10.010434Z"
    }
   },
   "id": "539ee17a51e64f98"
  },
  {
   "cell_type": "markdown",
   "source": [
    "## Defining the model"
   ],
   "metadata": {
    "collapsed": false
   },
   "id": "eebcc4838b2b039"
  },
  {
   "cell_type": "code",
   "execution_count": 61,
   "outputs": [],
   "source": [
    "import torch.nn as nn\n",
    "import torch.nn.functional as F"
   ],
   "metadata": {
    "collapsed": false,
    "ExecuteTime": {
     "end_time": "2023-10-24T13:06:39.130134Z",
     "start_time": "2023-10-24T13:06:39.125229Z"
    }
   },
   "id": "ca159ba5a4d47d5a"
  },
  {
   "cell_type": "code",
   "execution_count": 80,
   "outputs": [],
   "source": [
    "class BigramLanguageModel(nn.Module):\n",
    "    def __init__(self, vocab_size:int):\n",
    "        super().__init__()\n",
    "        self.vocab_size = vocab_size\n",
    "        self.embedding_table = nn.Embedding(vocab_size, vocab_size)\n",
    "        \n",
    "    def forward(self, x, y):\n",
    "        logits = self.embedding_table(x)\n",
    "        \n",
    "        if y is None:\n",
    "            loss = None\n",
    "        else:\n",
    "            batch, context, vocab = logits.shape\n",
    "            logits = logits.view(batch * context, vocab)\n",
    "            loss = F.cross_entropy(logits, y.view(batch * context))\n",
    "        return logits, loss\n",
    "    \n",
    "    def generate(self, x, max_new_tokens):\n",
    "        with torch.no_grad():\n",
    "            for _ in range(max_new_tokens):\n",
    "                logits, _ = self.forward(x, None)\n",
    "                logits = logits[:, -1, :] # take only the probabilities for the last token\n",
    "                probs = F.softmax(logits, dim=-1)\n",
    "                x_next = torch.multinomial(probs, num_samples=1)\n",
    "                x = torch.concat((x, x_next), dim=1) \n",
    "                \n",
    "        return x "
   ],
   "metadata": {
    "collapsed": false,
    "ExecuteTime": {
     "end_time": "2023-10-24T13:57:54.357780Z",
     "start_time": "2023-10-24T13:57:54.351293Z"
    }
   },
   "id": "45f7b4f30b20df9"
  },
  {
   "cell_type": "code",
   "execution_count": 81,
   "outputs": [
    {
     "data": {
      "text/plain": "BigramLanguageModel(\n  (embedding_table): Embedding(66, 66)\n)"
     },
     "execution_count": 81,
     "metadata": {},
     "output_type": "execute_result"
    }
   ],
   "source": [
    "model = BigramLanguageModel(len(vocab.vocab))\n",
    "model"
   ],
   "metadata": {
    "collapsed": false,
    "ExecuteTime": {
     "end_time": "2023-10-24T13:57:54.818603Z",
     "start_time": "2023-10-24T13:57:54.814523Z"
    }
   },
   "id": "80f529d75573efd8"
  },
  {
   "cell_type": "code",
   "execution_count": 89,
   "outputs": [
    {
     "data": {
      "text/plain": "\"\\nTYNccg3oJgBXLxEH;YuLb'sAXtNIWUjA<unk>PI:iEES.!WQ\\nW wK;BXK<unk>&J-hxsTLN;?CvRgWXzJtI3oUHnQx$QMmw,GBRpHVZMgbrb\""
     },
     "execution_count": 89,
     "metadata": {},
     "output_type": "execute_result"
    }
   ],
   "source": [
    "out = model.generate(x = torch.zeros(size=(1,1), dtype=torch.long), max_new_tokens=100)\n",
    "sequence = vocab.decode(out[0].tolist())\n",
    "sequence"
   ],
   "metadata": {
    "collapsed": false,
    "ExecuteTime": {
     "end_time": "2023-10-24T13:59:08.070201Z",
     "start_time": "2023-10-24T13:59:08.058211Z"
    }
   },
   "id": "76e7bb10eda39d3b"
  },
  {
   "cell_type": "code",
   "execution_count": 90,
   "outputs": [
    {
     "data": {
      "text/plain": "AdamW (\nParameter Group 0\n    amsgrad: False\n    betas: (0.9, 0.999)\n    capturable: False\n    differentiable: False\n    eps: 1e-08\n    foreach: None\n    fused: None\n    lr: 0.001\n    maximize: False\n    weight_decay: 0.01\n)"
     },
     "execution_count": 90,
     "metadata": {},
     "output_type": "execute_result"
    }
   ],
   "source": [
    "optimizer = torch.optim.AdamW(params=model.parameters(), lr=1e-3)\n",
    "optimizer"
   ],
   "metadata": {
    "collapsed": false,
    "ExecuteTime": {
     "end_time": "2023-10-24T14:00:15.262547Z",
     "start_time": "2023-10-24T14:00:14.923118Z"
    }
   },
   "id": "295ca13f69ac6ff2"
  },
  {
   "cell_type": "code",
   "execution_count": 95,
   "outputs": [
    {
     "name": "stdout",
     "output_type": "stream",
     "text": [
      "2.4236395359039307\n"
     ]
    }
   ],
   "source": [
    "batch_size=32\n",
    "for epoch in range(10000):\n",
    "    x, y = get_batch(train_data)\n",
    "    logits, loss = model(x, y)\n",
    "    optimizer.zero_grad(set_to_none=True)\n",
    "    loss.backward()\n",
    "    optimizer.step()\n",
    "\n",
    "print(loss.item())"
   ],
   "metadata": {
    "collapsed": false,
    "ExecuteTime": {
     "end_time": "2023-10-24T14:05:02.391884Z",
     "start_time": "2023-10-24T14:04:56.430091Z"
    }
   },
   "id": "f40c5b96672b3fca"
  },
  {
   "cell_type": "code",
   "execution_count": 98,
   "outputs": [
    {
     "name": "stdout",
     "output_type": "stream",
     "text": [
      "\n",
      "MERisomy taron to,\n",
      "Th, t MONG wortho LUThan s, s cr t wa cke qu wilQUS:\n",
      "\n",
      "ABRDin t ads, g:\n",
      "\n",
      "GRCAhadearr \n",
      "\n",
      "DYOLINodo me, andet?\n",
      "LY in nd I fr; I oulind my ngit ceieay hswine, ndoonde ruck ckeree, ENGBRDYOfis h ck heilino tid amire!\n",
      "LARDAstsod d h aybute angnoupiger hy os s,\n",
      "INCLIVOFI a?\n",
      "VOUS:\n",
      "\n",
      "Of aker\n",
      "I by ir thin, t l lodird lla tt,\n",
      "got heto tht ey\n",
      "Hoor, ben ghersthillvougr RKI ans nd hed I s th In\n"
     ]
    }
   ],
   "source": [
    "out = model.generate(x = torch.zeros(size=(1,1), dtype=torch.long), max_new_tokens=400)\n",
    "sequence = vocab.decode(out[0].tolist())\n",
    "print(sequence)"
   ],
   "metadata": {
    "collapsed": false,
    "ExecuteTime": {
     "end_time": "2023-10-24T14:05:37.614808Z",
     "start_time": "2023-10-24T14:05:37.587015Z"
    }
   },
   "id": "ad78bd0a5b2699b6"
  },
  {
   "cell_type": "code",
   "execution_count": null,
   "outputs": [],
   "source": [],
   "metadata": {
    "collapsed": false
   },
   "id": "e57653a7dcb5bde3"
  }
 ],
 "metadata": {
  "kernelspec": {
   "display_name": "Python 3",
   "language": "python",
   "name": "python3"
  },
  "language_info": {
   "codemirror_mode": {
    "name": "ipython",
    "version": 2
   },
   "file_extension": ".py",
   "mimetype": "text/x-python",
   "name": "python",
   "nbconvert_exporter": "python",
   "pygments_lexer": "ipython2",
   "version": "2.7.6"
  }
 },
 "nbformat": 4,
 "nbformat_minor": 5
}
